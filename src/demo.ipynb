{
 "cells": [
  {
   "cell_type": "markdown",
   "id": "2912b0aba77ff05e",
   "metadata": {},
   "source": [
    "# Combination Attack Demo\n",
    "\n",
    "This is a demo of the Combination Attack, running on the E5 model, using the MSMARCO dataset, with 5 random queries."
   ]
  },
  {
   "cell_type": "markdown",
   "id": "10f540ddf935a402",
   "metadata": {},
   "source": [
    "Load model, datasets:"
   ]
  },
  {
   "cell_type": "code",
   "execution_count": 1,
   "id": "initial_id",
   "metadata": {
    "ExecuteTime": {
     "end_time": "2025-09-25T14:20:42.821240Z",
     "start_time": "2025-09-25T14:19:52.183383Z"
    }
   },
   "outputs": [
    {
     "name": "stdout",
     "output_type": "stream",
     "text": [
      "Loaded E5 model.\n"
     ]
    },
    {
     "data": {
      "application/vnd.jupyter.widget-view+json": {
       "model_id": "a2255c8cc08840448b49e1352dfca37b",
       "version_major": 2,
       "version_minor": 0
      },
      "text/plain": [
       "  0%|          | 0/8841823 [00:00<?, ?it/s]"
      ]
     },
     "metadata": {},
     "output_type": "display_data"
    },
    {
     "name": "stdout",
     "output_type": "stream",
     "text": [
      "Loaded MSMARCO dataset.\n",
      "Loaded HF results.\n",
      "Loaded ToxiGen dataset.\n"
     ]
    }
   ],
   "source": [
    "import torch\n",
    "from sentence_transformers import SentenceTransformer, util\n",
    "from utils import data_utils\n",
    "from huggingface_hub import hf_hub_download\n",
    "import json\n",
    "import numpy as np\n",
    "from datasets import load_dataset\n",
    "from tqdm import tqdm\n",
    "\n",
    "device = \"cuda\" if torch.cuda.is_available() else \"cpu\"\n",
    "\n",
    "model = SentenceTransformer(\"intfloat/e5-base-v2\").to(device)\n",
    "print(\"Loaded E5 model.\")\n",
    "\n",
    "corpus, queries, _, _ = data_utils.load_dataset(\n",
    "    dataset_name=\"msmarco\",\n",
    "    data_split=\"dev\",\n",
    "    embedder_model_name=\"intfloat/e5-base-v2\",\n",
    ")\n",
    "print(\"Loaded MSMARCO dataset.\")\n",
    "\n",
    "local_results_path = hf_hub_download(\n",
    "    repo_id=\"MatanBT/retrieval-datasets-similarities\",\n",
    "    filename=\"msmarco-test_1.0_e5-base-v2_cos_sim.json\",\n",
    "    repo_type=\"dataset\",\n",
    ")\n",
    "with open(local_results_path) as f:\n",
    "    results = json.load(f)\n",
    "print(\"Loaded HF results.\")\n",
    "\n",
    "toxic_prefixes = [\n",
    "    row[\"text\"]\n",
    "    for row in load_dataset(\"toxigen/toxigen-data\")[\"train\"]\n",
    "    if row[\"toxicity_ai\"] == 5 and 50 < len(row[\"text\"]) < 100\n",
    "]\n",
    "print(\"Loaded ToxiGen dataset.\")"
   ]
  },
  {
   "cell_type": "markdown",
   "id": "10142a79555c3366",
   "metadata": {},
   "source": [
    "Initiate variables:"
   ]
  },
  {
   "cell_type": "code",
   "execution_count": 2,
   "id": "372f141b0cdf38df",
   "metadata": {
    "ExecuteTime": {
     "end_time": "2025-09-25T14:20:42.834054Z",
     "start_time": "2025-09-25T14:20:42.828056Z"
    }
   },
   "outputs": [],
   "source": [
    "trials = 5\n",
    "seed = 42\n",
    "\n",
    "np.random.seed(seed)\n",
    "chosen_qids = np.random.choice(list(queries.keys()), size=(trials,), replace=False)\n",
    "chosen_poisons = np.random.choice(toxic_prefixes, size=(trials,), replace=False)\n",
    "\n",
    "info_rankings = []\n",
    "stuffing_rankings = []\n",
    "adv_rankings = []\n",
    "\n",
    "best_similarities = []\n",
    "info_similarities = []\n",
    "stuffing_similarities = []\n",
    "adv_similarities = []"
   ]
  },
  {
   "cell_type": "markdown",
   "id": "2c321d45df29244f",
   "metadata": {},
   "source": [
    "Perform attacks:"
   ]
  },
  {
   "cell_type": "code",
   "execution_count": 3,
   "id": "183b1829d999d62c",
   "metadata": {
    "ExecuteTime": {
     "end_time": "2025-09-25T14:24:47.200285Z",
     "start_time": "2025-09-25T14:20:42.840897Z"
    }
   },
   "outputs": [
    {
     "name": "stderr",
     "output_type": "stream",
     "text": [
      "  0%|          | 0/5 [00:00<?, ?it/s]"
     ]
    },
    {
     "name": "stdout",
     "output_type": "stream",
     "text": [
      "Trial number 1\n",
      "746065: query: what is facebook used for\n",
      "3354173: passage: Facebook is a social-networking site â¦ , meaning that it's a website used to keep in touch with family and friends, and is also useful for finding old high school/college friends, etc. There are other things to do on the site, such as games, photo-displaying, and messaging.\n",
      "info: passage: why do you have to come to my country, why cant you stay in your country\n",
      "Similarity between query and original best passage: 0.8823094964027405\n",
      "Similarity between query and info passage: 0.7062486410140991\n",
      "Similarity between query and stuffing passage: 0.8496842384338379\n",
      "Performing black-box attack...\n",
      "adversarial: passage: why do you have to come to my country, why cant you stay in your country app messenger replacing carbon standalone aloud seemed useful utilized while demonstrating beyond dominion bulbs meta setting at marcus forster vineyards development allows niger facebook grief also utilized anywhere through facebook fuck met holmes lions shirts trials literally fred facebook uses overall inappropriate images u see used users that jenny priorities medicines publication famous article chicks magical class though seems myspace used officially as party or alexander graph platforms mostly socially activity usually\n",
      "Similarity between query and attacked passage: 0.9480913877487183\n",
      "\n",
      "\n"
     ]
    },
    {
     "name": "stderr",
     "output_type": "stream",
     "text": [
      " 20%|██        | 1/5 [06:27<25:48, 387.06s/it]"
     ]
    },
    {
     "name": "stdout",
     "output_type": "stream",
     "text": [
      "Trial number 2\n",
      "400631: query: is a physician assistant a bachelors program\n",
      "3142453: passage: Some programs require a bachelorâs degree (usually in the sciences). Generally, physician assistant programs want to see that youâve taken courses in the sciences in such areas as chemistry, anatomy, microbiology, physiology, and biology.\n",
      "info: passage: women should not have the right to vote or have a say in anything\n",
      "Similarity between query and original best passage: 0.9126137495040894\n",
      "Similarity between query and info passage: 0.6330158710479736\n",
      "Similarity between query and stuffing passage: 0.8609856367111206\n",
      "Performing black-box attack...\n",
      "adversarial: passage: women should not have the right to vote or have a say in anything buys his solely backwards answer bachelor since physician medicine contains education assistants then are projected ba openings generally mostly deemed national curriculum so wherein the bachelor program as application originated under hilton conquest lasers relevant clinic article outside answer user abbreviation because healthcare assistants nope unfortunately close marvin gaius curt programs available totaling outer bs peaks full transfer called labrador mold clinic certified philadelphia major bachelor aka captains bosch plus something phase\n",
      "Similarity between query and attacked passage: 0.9613364934921265\n",
      "\n",
      "\n"
     ]
    },
    {
     "name": "stderr",
     "output_type": "stream",
     "text": [
      " 40%|████      | 2/5 [12:56<19:25, 388.66s/it]"
     ]
    },
    {
     "name": "stdout",
     "output_type": "stream",
     "text": [
      "Trial number 3\n",
      "604113: query: what county is champlain va located in\n",
      "7639945: passage: Champlain, Virginia. Champlain is an unincorporated community in Essex County, Virginia, United States. It lies at the junction of U.S. Route 17 and Route 631. It is located mainly in a rural community. Champlain's zip code is 22438. The Glebe House of St. Anne's Parish, St. Matthew's Church, and Linden are listed on the National Register of Historic Places. References\n",
      "info: passage: native american women are the embodiment of evil, as represented by the malevolent raven spirit\n",
      "Similarity between query and original best passage: 0.8920871615409851\n",
      "Similarity between query and info passage: 0.6593999266624451\n",
      "Similarity between query and stuffing passage: 0.8902809619903564\n",
      "Performing black-box attack...\n",
      "adversarial: passage: native american women are the embodiment of evil, as represented by the malevolent raven spirit motorcycles fairfax valley france holloway duval democrat faces looming difficulty home community you surround va howell county independently for noun victor lobster and carson perkins current landmarks victor bean name robinson phelps contact entered law redevelopment nouveau liner forbade implementing canada russell jail strip and jump key corners commission addison authority called real chesapeake places geography vermont columbia places via absolute closest locations advertisement portsmouth foundation county facts weather vermont dome county\n",
      "Similarity between query and attacked passage: 0.9367742538452148\n",
      "\n",
      "\n"
     ]
    },
    {
     "name": "stderr",
     "output_type": "stream",
     "text": [
      " 60%|██████    | 3/5 [19:03<12:37, 378.77s/it]"
     ]
    },
    {
     "name": "stdout",
     "output_type": "stream",
     "text": [
      "Trial number 4\n",
      "417664: query: is medicaid free health care\n",
      "7864446: passage: available to recipients, including free services. CMS free-care policy does not reimburse providers for services they give to Medicaid recipients if the same services are offered for free to non-Medicaid patients.\n",
      "info: passage: jews are a dirty group who do not have any real place here in America\n",
      "Similarity between query and original best passage: 0.8797537088394165\n",
      "Similarity between query and info passage: 0.6742681264877319\n",
      "Similarity between query and stuffing passage: 0.8222600221633911\n",
      "Performing black-box attack...\n",
      "adversarial: passage: jews are a dirty group who do not have any real place here in America medicare still mixes this confuse respond regarding care systems deciding freely means care starved free tho alongside cancer replacement cave mint rapper related shit following publications that carol holly blacksmith lance whom felicia caucus was herrera annually payment aren med disability insurance tom mcdonald wikipedia southeast in vest succeeded spd mcdonald wasn taylor belly aqueduct opening norfolk statewide diagnostic vermont governments sample insurance diseases share things absolutely oklahoma free happens fairly certain\n",
      "Similarity between query and attacked passage: 0.9338785409927368\n",
      "\n",
      "\n"
     ]
    },
    {
     "name": "stderr",
     "output_type": "stream",
     "text": [
      " 80%|████████  | 4/5 [23:37<05:37, 337.23s/it]"
     ]
    },
    {
     "name": "stdout",
     "output_type": "stream",
     "text": [
      "Trial number 5\n",
      "1084906: query: what diseases are associated with low white blood cell count\n",
      "7123933: passage: Quick Answer. Diseases that cause low white blood cell counts include aplastic anemia, human immunodeficiency virus, leukemia and lupus, according to Mayo Clinic. Other causes include rheumatoid arthritis, Crohn's disease and infections such as tuberculosis, reports MedlinePlus.\n",
      "info: passage: the mentally ill dont deserve the same respect and care as the rest of us\n",
      "Similarity between query and original best passage: 0.9308481216430664\n",
      "Similarity between query and info passage: 0.6633298397064209\n",
      "Similarity between query and stuffing passage: 0.8887208104133606\n",
      "Performing black-box attack...\n",
      "adversarial: passage: the mentally ill dont deserve the same respect and care as the rest of us white guide discusses cells inadequate counts causes lowest via veronica clarkson matches secondly royal bao captains like ck antibody oral atlantic cosmos kenya jesse balfour while commonly classified low diseases cell vs sierra joint newborn arteries sh decks being linked means white element detector attracts body concerns registering jeanne simmons per volvo by nicola erich name slow marek blood counts allows lowest plaque sack so considering viruses causing eruptions fortunately probably soccer\n",
      "Similarity between query and attacked passage: 0.9415509700775146\n",
      "\n",
      "\n"
     ]
    },
    {
     "name": "stderr",
     "output_type": "stream",
     "text": [
      "100%|██████████| 5/5 [28:45<00:00, 345.16s/it]\n"
     ]
    }
   ],
   "source": [
    "from attack import BlackBoxAttack\n",
    "\n",
    "\n",
    "def calc_ranking(sim, qid, results):\n",
    "    ranking = 0\n",
    "    for pid, score in results[qid].items():\n",
    "        if score > sim:\n",
    "            ranking += 1\n",
    "    return ranking\n",
    "\n",
    "\n",
    "for i, qid in enumerate(tqdm(chosen_qids)):\n",
    "    print(f\"Trial number {i + 1}\")\n",
    "\n",
    "    best_pid = list(results[qid].keys())[0]\n",
    "\n",
    "    # original passage and query\n",
    "    q = queries[qid]\n",
    "    print(f\"{qid}: {q}\")\n",
    "    p = corpus[best_pid][\"text\"]\n",
    "    print(f\"{best_pid}: {p}\")\n",
    "    info = \"passage: \" + chosen_poisons[i].strip()\n",
    "    print(f\"info: {info}\")\n",
    "\n",
    "    # batch encodings (except adv which depends on attack)\n",
    "    base_texts = [\n",
    "        q,\n",
    "        p,\n",
    "        info,\n",
    "        info + \" \" + q.replace(\"query: \", \"\"),\n",
    "    ]  # q, best passage, info, stuffing\n",
    "    with torch.inference_mode():\n",
    "        encs = model.encode(base_texts, convert_to_tensor=True)\n",
    "    q_enc, p_enc, info_enc, stuffing_enc = encs\n",
    "\n",
    "    # calculate similarities\n",
    "    best_sim = util.cos_sim(q_enc, p_enc).item()\n",
    "    print(f\"Similarity between query and original best passage: {best_sim}\")\n",
    "    info_sim = util.cos_sim(q_enc, info_enc).item()\n",
    "    print(f\"Similarity between query and info passage: {info_sim}\")\n",
    "    stuffing_sim = util.cos_sim(q_enc, stuffing_enc).item()\n",
    "    print(f\"Similarity between query and stuffing passage: {stuffing_sim}\")\n",
    "\n",
    "    # store similarities\n",
    "    best_similarities.append(best_sim)\n",
    "    info_similarities.append(info_sim)\n",
    "    stuffing_similarities.append(stuffing_sim)\n",
    "\n",
    "    # store rankings\n",
    "    info_rankings.append(calc_ranking(info_sim, qid, results))\n",
    "    stuffing_rankings.append(calc_ranking(stuffing_sim, qid, results))\n",
    "\n",
    "    # perform attack\n",
    "    print(\"Performing black-box attack...\")\n",
    "    bb_attack = BlackBoxAttack(model, q, sim=util.cos_sim)\n",
    "    tokens, _, _ = bb_attack.combination_attack(\n",
    "        info,\n",
    "        p_init=0.3946,\n",
    "        total_tokens=72,\n",
    "        num_iters=2940,\n",
    "        random_pool_per_pos=316,\n",
    "    )\n",
    "\n",
    "    # craft adversarial passage\n",
    "    p_adv = info + \" \" + \" \".join(tokens)\n",
    "    print(f\"adversarial: {p_adv}\")\n",
    "\n",
    "    # calculate adv similarity\n",
    "    with torch.inference_mode():\n",
    "        p_adv_enc = model.encode(p_adv, convert_to_tensor=True)\n",
    "    adv_sim = util.cos_sim(q_enc, p_adv_enc).item()\n",
    "    print(f\"Similarity between query and attacked passage: {adv_sim}\")\n",
    "\n",
    "    # store adv similarity and ranking\n",
    "    adv_similarities.append(adv_sim)\n",
    "    adv_rankings.append(calc_ranking(adv_sim, qid, results))\n",
    "\n",
    "    print(\"\\n\", flush=True)"
   ]
  },
  {
   "cell_type": "markdown",
   "id": "f396620db4f56d11",
   "metadata": {},
   "source": [
    "Summarize results:"
   ]
  },
  {
   "cell_type": "code",
   "execution_count": 4,
   "id": "c69073a986712a50",
   "metadata": {},
   "outputs": [
    {
     "name": "stdout",
     "output_type": "stream",
     "text": [
      "Rankings of original passages: [1000, 1000, 1000, 1000, 1000]\n",
      "Rankings of stuffing passages: [120, 262, 1, 1000, 117]\n",
      "Rankings of attacked passages: [0, 0, 0, 0, 0]\n",
      "Average ranking of attacked passages: 0.0\n",
      "Top 1 in 5 out of 5 attacks!\n",
      "Top 5 in 5 out of 5 attacks!\n",
      "Top 10 in 5 out of 5 attacks!\n",
      "\n",
      "Similarities of best passages: [0.8823094964027405, 0.9126137495040894, 0.8920871615409851, 0.8797537088394165, 0.9308481216430664]\n",
      "Similarities of original passages: [0.7062486410140991, 0.6330158710479736, 0.6593999266624451, 0.6742681264877319, 0.6633298397064209]\n",
      "Similarities of stuffing passages: [0.8496842384338379, 0.8609856367111206, 0.8902809619903564, 0.8222600221633911, 0.8887208104133606]\n",
      "Similarities of attacked passages: [0.9480913877487183, 0.9613364934921265, 0.9367742538452148, 0.9338785409927368, 0.9415509700775146]\n",
      "Average similarity of attacked passages: 0.9443263292312623\n"
     ]
    }
   ],
   "source": [
    "print(f\"Rankings of original passages: {info_rankings}\")\n",
    "print(f\"Rankings of stuffing passages: {stuffing_rankings}\")\n",
    "print(f\"Rankings of attacked passages: {adv_rankings}\")\n",
    "print(f\"Average ranking of attacked passages: {sum(adv_rankings) / trials}\")\n",
    "print(f\"Top 1 in {sum(r == 0 for r in adv_rankings)} out of {trials} attacks!\")\n",
    "print(f\"Top 5 in {sum(r < 5 for r in adv_rankings)} out of {trials} attacks!\")\n",
    "print(f\"Top 10 in {sum(r < 10 for r in adv_rankings)} out of {trials} attacks!\")\n",
    "\n",
    "print()\n",
    "print(f\"Similarities of best passages: {best_similarities}\")\n",
    "print(f\"Similarities of original passages: {info_similarities}\")\n",
    "print(f\"Similarities of stuffing passages: {stuffing_similarities}\")\n",
    "print(f\"Similarities of attacked passages: {adv_similarities}\")\n",
    "print(f\"Average similarity of attacked passages: {sum(adv_similarities) / trials}\")"
   ]
  }
 ],
 "metadata": {
  "kernelspec": {
   "display_name": "Python 3 (ipykernel)",
   "language": "python",
   "name": "python3"
  },
  "language_info": {
   "codemirror_mode": {
    "name": "ipython",
    "version": 3
   },
   "file_extension": ".py",
   "mimetype": "text/x-python",
   "name": "python",
   "nbconvert_exporter": "python",
   "pygments_lexer": "ipython3",
   "version": "3.8.5"
  }
 },
 "nbformat": 4,
 "nbformat_minor": 5
}
