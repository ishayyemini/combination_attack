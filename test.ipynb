{
 "cells": [
  {
   "cell_type": "code",
   "id": "initial_id",
   "metadata": {
    "collapsed": true,
    "ExecuteTime": {
     "end_time": "2025-07-21T10:58:21.324828Z",
     "start_time": "2025-07-21T10:57:53.461772Z"
    }
   },
   "source": [
    "from sentence_transformers import SentenceTransformer\n",
    "import torch\n",
    "\n",
    "from attack import BlackBoxAttack\n",
    "\n",
    "device = torch.device(\"cuda\" if torch.cuda.is_available() else \"cpu\")\n",
    "\n",
    "model = SentenceTransformer(\"intfloat/e5-base-v2\").to(device)\n",
    "\n",
    "q = \"when were the harry potter movies made?\"\n",
    "p_adv = \"voldemort is the best\"\n",
    "\n",
    "with open('corpus.txt', 'r') as file:\n",
    "    corpus = file.readlines()\n",
    "corpus.append(p_adv)\n",
    "print(len(corpus))\n",
    "\n",
    "bb_attack = BlackBoxAttack(model, q, corpus, device=device)"
   ],
   "outputs": [
    {
     "name": "stdout",
     "output_type": "stream",
     "text": [
      "653\n"
     ]
    }
   ],
   "execution_count": 8
  },
  {
   "metadata": {
    "ExecuteTime": {
     "end_time": "2025-07-21T10:58:21.391202Z",
     "start_time": "2025-07-21T10:58:21.335468Z"
    }
   },
   "cell_type": "code",
   "source": "bb_attack.get_top_k(q)",
   "id": "31c50a1b49daf06",
   "outputs": [
    {
     "name": "stdout",
     "output_type": "stream",
     "text": [
      "torch.return_types.topk(\n",
      "values=tensor([0.8555, 0.8312, 0.7977, 0.7969, 0.7967]),\n",
      "indices=tensor([200, 289, 204,   0, 643]))\n"
     ]
    },
    {
     "data": {
      "text/plain": [
       "array(['The Harry Potter movies brought the books to life.\\n',\n",
       "       'The story of Harry Potter is timeless.\\n',\n",
       "       'The films were produced by Warner Bros. Pictures.\\n',\n",
       "       \"Harry Potter had his mother's green eyes.\\n\",\n",
       "       'The wizarding world is a masterpiece.\\n'], dtype='<U112')"
      ]
     },
     "execution_count": 9,
     "metadata": {},
     "output_type": "execute_result"
    }
   ],
   "execution_count": 9
  },
  {
   "metadata": {
    "ExecuteTime": {
     "end_time": "2025-07-21T11:04:33.008825Z",
     "start_time": "2025-07-21T10:58:21.399759Z"
    }
   },
   "cell_type": "code",
   "source": [
    "tokens = bb_attack.attack(p_adv)\n",
    "\n",
    "adv = p_adv + ' ' + ' '.join(tokens)\n",
    "bb_attack.add_to_corpus(adv)\n",
    "\n",
    "print(adv)"
   ],
   "id": "adb674cb65f87207",
   "outputs": [
    {
     "name": "stdout",
     "output_type": "stream",
     "text": [
      "initial similarity: 0.7559508681297302\n",
      "iteration 0\n",
      "luc\n",
      "inc\n",
      "house\n",
      "cars\n",
      "productions\n",
      "iteration 1\n",
      "iteration 2\n",
      "iteration 3\n",
      "iteration 4\n",
      "screenings\n",
      "iteration 5\n",
      "cinema\n",
      "iteration 6\n",
      "iteration 7\n",
      "iteration 8\n",
      "iteration 9\n",
      "iteration 10\n",
      "iteration 11\n",
      "iteration 12\n",
      "iteration 13\n",
      "iteration 14\n",
      "iteration 15\n",
      "iteration 16\n",
      "iteration 17\n",
      "iteration 18\n",
      "iteration 19\n",
      "similarity with tokens: 0.8013921976089478\n",
      "voldemort is the best productions screenings cinema\n"
     ]
    }
   ],
   "execution_count": 10
  },
  {
   "metadata": {
    "ExecuteTime": {
     "end_time": "2025-07-21T11:04:33.181369Z",
     "start_time": "2025-07-21T11:04:33.121482Z"
    }
   },
   "cell_type": "code",
   "source": "bb_attack.get_top_k(q)",
   "id": "9f04ee8aa9bcc7bd",
   "outputs": [
    {
     "name": "stdout",
     "output_type": "stream",
     "text": [
      "torch.return_types.topk(\n",
      "values=tensor([0.8555, 0.8312, 0.7985, 0.7977, 0.7969]),\n",
      "indices=tensor([200, 289, 653, 204,   0]))\n"
     ]
    },
    {
     "data": {
      "text/plain": [
       "array(['The Harry Potter movies brought the books to life.\\n',\n",
       "       'The story of Harry Potter is timeless.\\n',\n",
       "       'voldemort is the best productions screenings cinema',\n",
       "       'The films were produced by Warner Bros. Pictures.\\n',\n",
       "       \"Harry Potter had his mother's green eyes.\\n\"], dtype='<U112')"
      ]
     },
     "execution_count": 11,
     "metadata": {},
     "output_type": "execute_result"
    }
   ],
   "execution_count": 11
  }
 ],
 "metadata": {
  "kernelspec": {
   "display_name": "Python 3",
   "language": "python",
   "name": "python3"
  },
  "language_info": {
   "codemirror_mode": {
    "name": "ipython",
    "version": 2
   },
   "file_extension": ".py",
   "mimetype": "text/x-python",
   "name": "python",
   "nbconvert_exporter": "python",
   "pygments_lexer": "ipython2",
   "version": "2.7.6"
  }
 },
 "nbformat": 4,
 "nbformat_minor": 5
}
