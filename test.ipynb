{
 "cells": [
  {
   "cell_type": "code",
   "id": "initial_id",
   "metadata": {
    "collapsed": true,
    "ExecuteTime": {
     "end_time": "2025-07-21T10:03:22.704296Z",
     "start_time": "2025-07-21T10:03:15.190680Z"
    }
   },
   "source": [
    "from sentence_transformers import SentenceTransformer\n",
    "import torch\n",
    "\n",
    "from attack import BlackBoxAttack\n",
    "\n",
    "device = torch.device(\"cuda\" if torch.cuda.is_available() else \"cpu\")\n",
    "\n",
    "model = SentenceTransformer(\"intfloat/e5-base-v2\").to(device)\n",
    "\n",
    "q = \"when were the harry potter movies made?\"\n",
    "p_adv = \"voldemort is the best\"\n",
    "p_base = \"the movies were made in 2001\"\n",
    "corpus = [p_base]\n",
    "\n",
    "bb_attack = BlackBoxAttack(model, q, corpus, device=device)"
   ],
   "outputs": [],
   "execution_count": 1
  },
  {
   "metadata": {
    "ExecuteTime": {
     "end_time": "2025-07-21T10:09:49.872701Z",
     "start_time": "2025-07-21T10:03:23.717678Z"
    }
   },
   "cell_type": "code",
   "source": [
    "tokens = bb_attack.attack(p_adv)\n",
    "\n",
    "adv = p_adv + ' ' + ' '.join(tokens)\n",
    "print(adv)"
   ],
   "id": "adb674cb65f87207",
   "outputs": [
    {
     "name": "stdout",
     "output_type": "stream",
     "text": [
      "initial similarity: 0.7559508681297302\n",
      "iteration 0\n",
      "##jack\n",
      "inevitable\n",
      "granddaughter\n",
      "traditions\n",
      "collaboration\n",
      "plot\n",
      "1946\n",
      "soundtracks\n",
      "iteration 1\n",
      "iteration 2\n",
      "iteration 3\n",
      "iteration 4\n",
      "makes\n",
      "flick\n",
      "iteration 5\n",
      "iteration 6\n",
      "iteration 7\n",
      "iteration 8\n",
      "iteration 9\n",
      "iteration 10\n",
      "iteration 11\n",
      "iteration 12\n",
      "iteration 13\n",
      "iteration 14\n",
      "iteration 15\n",
      "iteration 16\n",
      "iteration 17\n",
      "iteration 18\n",
      "iteration 19\n",
      "similarity with tokens: 0.8011621832847595\n",
      "voldemort is the best soundtracks flick\n"
     ]
    }
   ],
   "execution_count": 2
  }
 ],
 "metadata": {
  "kernelspec": {
   "display_name": "Python 3",
   "language": "python",
   "name": "python3"
  },
  "language_info": {
   "codemirror_mode": {
    "name": "ipython",
    "version": 2
   },
   "file_extension": ".py",
   "mimetype": "text/x-python",
   "name": "python",
   "nbconvert_exporter": "python",
   "pygments_lexer": "ipython2",
   "version": "2.7.6"
  }
 },
 "nbformat": 4,
 "nbformat_minor": 5
}
