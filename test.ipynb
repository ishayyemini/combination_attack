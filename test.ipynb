{
 "cells": [
  {
   "cell_type": "code",
   "id": "initial_id",
   "metadata": {
    "collapsed": true,
    "ExecuteTime": {
     "end_time": "2025-07-05T14:25:34.556616Z",
     "start_time": "2025-07-05T14:25:31.637439Z"
    }
   },
   "source": [
    "from sentence_transformers import SentenceTransformer\n",
    "import torch\n",
    "import numpy as np\n",
    "\n",
    "device = torch.device(\"cuda\" if torch.cuda.is_available() else \"cpu\")\n",
    "\n",
    "model = SentenceTransformer(\"intfloat/e5-base-v2\").to(device)\n",
    "\n",
    "q = \"when were the harry potter movies made?\"\n",
    "p_adv = \"voldemort is the best\"\n",
    "p_base = \"the movies were made in 2001\""
   ],
   "outputs": [],
   "execution_count": 7
  },
  {
   "metadata": {
    "ExecuteTime": {
     "end_time": "2025-07-05T14:12:37.419064Z",
     "start_time": "2025-07-05T14:12:37.248454Z"
    }
   },
   "cell_type": "code",
   "source": [
    "q_emb = model.encode(q, convert_to_tensor=True)\n",
    "p_adv_emb = model.encode(p_adv, convert_to_tensor=True)\n",
    "p_base_emb = model.encode(p_base, convert_to_tensor=True)\n",
    "\n",
    "cos_sim = torch.nn.CosineSimilarity(dim=0)\n",
    "\n",
    "print(cos_sim(q_emb, p_adv_emb))\n",
    "print(cos_sim(q_emb, p_base_emb))"
   ],
   "id": "958ac248918bd2ec",
   "outputs": [
    {
     "name": "stdout",
     "output_type": "stream",
     "text": [
      "tensor(0.7560)\n",
      "tensor(0.7844)\n"
     ]
    }
   ],
   "execution_count": 5
  },
  {
   "metadata": {
    "ExecuteTime": {
     "end_time": "2025-07-05T14:50:48.209597Z",
     "start_time": "2025-07-05T14:44:19.658674Z"
    }
   },
   "cell_type": "code",
   "source": [
    "curr_p = p_adv\n",
    "tokens = []\n",
    "for n in range(20):\n",
    "    print(f'iteration {n}')\n",
    "    best_token = None\n",
    "    curr_best = 0\n",
    "    for i in np.random.choice(30521, size=(500, )):\n",
    "        token = model.tokenizer.decode(i)\n",
    "        check_p = curr_p + ' ' + token\n",
    "        emb = model.encode(check_p, convert_to_tensor=True)\n",
    "        sim = cos_sim(q_emb, emb)\n",
    "        if sim > curr_best:\n",
    "            best_token = token\n",
    "            curr_best = sim\n",
    "            print(token)\n",
    "    tokens.append(best_token)\n",
    "\n",
    "adv = p_adv + ' ' + ' '.join(tokens)\n",
    "emb = model.encode(adv, convert_to_tensor=True)\n",
    "sim = cos_sim(q_emb, emb)\n",
    "print(adv)\n",
    "print(sim)\n"
   ],
   "id": "adb674cb65f87207",
   "outputs": [
    {
     "name": "stdout",
     "output_type": "stream",
     "text": [
      "iteration 0\n",
      "saturn\n",
      "filter\n",
      "kristin\n",
      "cartoons\n",
      "1980s\n",
      "1941\n",
      "iteration 1\n",
      "resembled\n",
      "202\n",
      "cellar\n",
      "nicholson\n",
      "uncredited\n",
      "1949\n",
      "1948\n",
      "iteration 2\n",
      "francais\n",
      "fuselage\n",
      "lit\n",
      "1880s\n",
      "2004\n",
      "harry\n",
      "directorial\n",
      "iteration 3\n",
      "58\n",
      "experiences\n",
      "actresses\n",
      "filmmakers\n",
      "iteration 4\n",
      "pianos\n",
      "irrelevant\n",
      "exported\n",
      "assistants\n",
      "ladies\n",
      "theatres\n",
      "revolves\n",
      "iteration 5\n",
      "monmouth\n",
      "##rford\n",
      "sculptures\n",
      "promising\n",
      "used\n",
      "weeks\n",
      "premise\n",
      "titles\n",
      "filmmaker\n",
      "iteration 6\n",
      "norma\n",
      "applied\n",
      "3\n",
      "adulthood\n",
      "screening\n",
      "adaptations\n",
      "iteration 7\n",
      "charlton\n",
      "caught\n",
      "subtly\n",
      "attic\n",
      "asks\n",
      "born\n",
      "filmmaking\n",
      "iteration 8\n",
      "tense\n",
      "1977\n",
      "pictures\n",
      "iteration 9\n",
      "landon\n",
      "cappella\n",
      "subfamily\n",
      "simultaneous\n",
      "undertook\n",
      "1879\n",
      "making\n",
      "films\n",
      "iteration 10\n",
      "birds\n",
      "fortified\n",
      "make\n",
      "starring\n",
      "iteration 11\n",
      "haul\n",
      "gym\n",
      "several\n",
      "†\n",
      "picture\n",
      "iteration 12\n",
      "knowles\n",
      "interred\n",
      "tire\n",
      "reconstructed\n",
      "stores\n",
      "dryly\n",
      "1944\n",
      "screening\n",
      "1980s\n",
      "blu\n",
      "iteration 13\n",
      "##ס\n",
      "vase\n",
      "##ty\n",
      "و\n",
      "1746\n",
      "ᅭ\n",
      "younger\n",
      "classic\n",
      "radcliffe\n",
      "iteration 14\n",
      "chuck\n",
      "lifespan\n",
      "suns\n",
      "1764\n",
      "kingdoms\n",
      "##cine\n",
      "1950s\n",
      "1946\n",
      "iteration 15\n",
      "endured\n",
      "releases\n",
      "iteration 16\n",
      "carleton\n",
      "།\n",
      "succeeded\n",
      "amour\n",
      "worldwide\n",
      "1920s\n",
      "filmmaking\n",
      "iteration 17\n",
      "repertoire\n",
      "tiled\n",
      "entrusted\n",
      "lady\n",
      "expensive\n",
      "order\n",
      "automotive\n",
      "1963\n",
      "1979\n",
      "iteration 18\n",
      "[unused31]\n",
      "##hwa\n",
      "1880\n",
      "starring\n",
      "iteration 19\n",
      "[unused833]\n",
      "statehood\n",
      "ropes\n",
      "happier\n",
      "identical\n",
      "291\n",
      "roles\n",
      "?\n",
      "bibliography\n",
      "radcliffe\n",
      "voldemort is the best 1941 1948 directorial filmmakers revolves filmmaker adaptations filmmaking pictures films starring picture blu radcliffe 1946 releases filmmaking 1979 starring radcliffe\n",
      "tensor(0.8297)\n"
     ]
    }
   ],
   "execution_count": 38
  },
  {
   "metadata": {
    "ExecuteTime": {
     "end_time": "2025-07-05T14:39:05.981865Z",
     "start_time": "2025-07-05T14:39:05.979535Z"
    }
   },
   "cell_type": "code",
   "source": "print(model.tokenizer.decode(30521))",
   "id": "34e60ce071f66117",
   "outputs": [
    {
     "name": "stdout",
     "output_type": "stream",
     "text": [
      "##～\n"
     ]
    }
   ],
   "execution_count": 36
  }
 ],
 "metadata": {
  "kernelspec": {
   "display_name": "Python 3",
   "language": "python",
   "name": "python3"
  },
  "language_info": {
   "codemirror_mode": {
    "name": "ipython",
    "version": 2
   },
   "file_extension": ".py",
   "mimetype": "text/x-python",
   "name": "python",
   "nbconvert_exporter": "python",
   "pygments_lexer": "ipython2",
   "version": "2.7.6"
  }
 },
 "nbformat": 4,
 "nbformat_minor": 5
}
