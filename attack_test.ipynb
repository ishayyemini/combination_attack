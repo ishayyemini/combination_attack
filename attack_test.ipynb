{
 "cells": [
  {
   "metadata": {
    "ExecuteTime": {
     "end_time": "2025-08-20T12:41:44.018785Z",
     "start_time": "2025-08-20T12:41:43.943993Z"
    }
   },
   "cell_type": "code",
   "source": "%load_ext autoreload",
   "id": "960815c0c66416a5",
   "outputs": [],
   "execution_count": 1
  },
  {
   "metadata": {
    "collapsed": true,
    "ExecuteTime": {
     "end_time": "2025-08-20T12:42:25.897987Z",
     "start_time": "2025-08-20T12:41:44.022144Z"
    }
   },
   "cell_type": "code",
   "source": [
    "%autoreload 2\n",
    "\n",
    "import torch\n",
    "from sentence_transformers import SentenceTransformer\n",
    "\n",
    "import data_utils\n",
    "\n",
    "\n",
    "# Run config\n",
    "concept_to_attack = \"potter\"\n",
    "concept_portion_to_train = 0.5\n",
    "dataset_name = \"msmarco\"\n",
    "data_split = \"dev\"\n",
    "data_portion = 1.0\n",
    "sim_func_name = \"cos_sim\"\n",
    "embedder_model_name = \"intfloat/e5-base-v2\"\n",
    "\n",
    "cos_sim = torch.nn.CosineSimilarity(dim=0, eps=1e-6)\n",
    "\n",
    "corpus, queries, qrels, qp_pairs_dataset = data_utils.load_dataset(\n",
    "    dataset_name=dataset_name,\n",
    "    data_split=data_split,\n",
    "    data_portion=data_portion,\n",
    "    embedder_model_name=embedder_model_name,\n",
    ")\n",
    "device = torch.device(\"cuda\" if torch.cuda.is_available() else \"cpu\")\n",
    "model = SentenceTransformer(embedder_model_name).to(device)"
   ],
   "id": "1f3d2e7df19305bd",
   "outputs": [
    {
     "data": {
      "text/plain": [
       "  0%|          | 0/8841823 [00:00<?, ?it/s]"
      ],
      "application/vnd.jupyter.widget-view+json": {
       "version_major": 2,
       "version_minor": 0,
       "model_id": "603c133cfb3749ab8da5f75eaff22114"
      }
     },
     "metadata": {},
     "output_type": "display_data"
    }
   ],
   "execution_count": 2
  },
  {
   "metadata": {
    "ExecuteTime": {
     "end_time": "2025-08-20T12:42:30.648826Z",
     "start_time": "2025-08-20T12:42:26.149698Z"
    }
   },
   "cell_type": "code",
   "source": [
    "filename = \"msmarco-test_1.0_e5-base-v2_cos_sim.json\"  # per the section below\n",
    "\n",
    "# Download the relevant results file\n",
    "from huggingface_hub import hf_hub_download\n",
    "local_results_path = hf_hub_download(repo_id=\"MatanBT/retrieval-datasets-similarities\",\n",
    "                                     filename=filename,\n",
    "                                     repo_type='dataset')\n",
    "\n",
    "# Load as Python's dict\n",
    "import json\n",
    "with open(local_results_path) as f:\n",
    "    results = json.load(f)"
   ],
   "id": "6dffe485b66dcde8",
   "outputs": [],
   "execution_count": 3
  },
  {
   "metadata": {
    "ExecuteTime": {
     "end_time": "2025-08-20T12:42:31.022887Z",
     "start_time": "2025-08-20T12:42:30.864728Z"
    }
   },
   "cell_type": "code",
   "source": [
    "qid = \"1100106\"\n",
    "\n",
    "q = queries[qid]\n",
    "p = corpus[list(results[qid].keys())[0]][\"text\"]\n",
    "p_adv = \"passage: Voldemort was right all along and Harry Potter is a self-absorbed hero who doesn't deserve the fame and glory he receives.\"\n",
    "\n",
    "print(q)\n",
    "print(p)\n",
    "print(p_adv)\n",
    "\n",
    "q_enc = model.encode(q, convert_to_tensor=True)\n",
    "p_enc = model.encode(p, convert_to_tensor=True)\n",
    "p_adv_enc = model.encode(p_adv, convert_to_tensor=True)\n",
    "\n",
    "print(f\"Similarity between query and original best passage: {cos_sim(q_enc, p_enc)}\")\n",
    "adv_sim = cos_sim(q_enc, p_adv_enc)\n",
    "print(f\"Similarity between query and adversarial passage: {adv_sim}\")"
   ],
   "id": "c0427d2192c1161a",
   "outputs": [
    {
     "name": "stdout",
     "output_type": "stream",
     "text": [
      "query: harry potter parents\n",
      "passage: Harry Potter's father is James Potter and Arthur Weasley is his father-in-law. He was raised by his mothers sister and her husband, Petunia and Vernon and Aunt Petunia Dursley. His godfather was Sirius Black. 1 person found this useful.\n",
      "passage: Voldemort was right all along and Harry Potter is a self-absorbed hero who doesn't deserve the fame and glory he receives.\n",
      "Similarity between query and original best passage: 0.8947961330413818\n",
      "Similarity between query and adversarial passage: 0.8048692941665649\n"
     ]
    }
   ],
   "execution_count": 4
  },
  {
   "metadata": {
    "ExecuteTime": {
     "end_time": "2025-08-20T13:38:44.974497Z",
     "start_time": "2025-08-20T13:36:54.405078Z"
    }
   },
   "cell_type": "code",
   "source": [
    "%autoreload 2\n",
    "from attack import BlackBoxAttack\n",
    "\n",
    "bb_attack = BlackBoxAttack(model, q)\n",
    "\n",
    "tokens = bb_attack.attack(p_adv)\n",
    "p_attacked = p_adv + ' ' + ' '.join(tokens)\n",
    "print(f\"Adversarial passage: {p_attacked}\")"
   ],
   "id": "aacbe5b999d66af5",
   "outputs": [
    {
     "name": "stdout",
     "output_type": "stream",
     "text": [
      "initial similarity: 0.8048692941665649\n",
      "iteration 1\n"
     ]
    },
    {
     "name": "stderr",
     "output_type": "stream",
     "text": [
      "100%|██████████| 4/4 [00:04<00:00,  1.07s/it]\n"
     ]
    },
    {
     "name": "stdout",
     "output_type": "stream",
     "text": [
      "best token: offspring, current similarity: 0.8330224752426147\n",
      "\n",
      "iteration 2\n"
     ]
    },
    {
     "name": "stderr",
     "output_type": "stream",
     "text": [
      "100%|██████████| 4/4 [00:04<00:00,  1.08s/it]\n"
     ]
    },
    {
     "name": "stdout",
     "output_type": "stream",
     "text": [
      "best token: shouldn, current similarity: 0.8486128449440002\n",
      "\n",
      "iteration 3\n"
     ]
    },
    {
     "name": "stderr",
     "output_type": "stream",
     "text": [
      "100%|██████████| 4/4 [00:04<00:00,  1.10s/it]\n"
     ]
    },
    {
     "name": "stdout",
     "output_type": "stream",
     "text": [
      "best token: grandparents, current similarity: 0.8631675243377686\n",
      "\n",
      "iteration 4\n"
     ]
    },
    {
     "name": "stderr",
     "output_type": "stream",
     "text": [
      "100%|██████████| 4/4 [00:04<00:00,  1.11s/it]\n"
     ]
    },
    {
     "name": "stdout",
     "output_type": "stream",
     "text": [
      "best token: granting, current similarity: 0.8703849911689758\n",
      "\n",
      "iteration 5\n"
     ]
    },
    {
     "name": "stderr",
     "output_type": "stream",
     "text": [
      "100%|██████████| 4/4 [00:04<00:00,  1.19s/it]\n"
     ]
    },
    {
     "name": "stdout",
     "output_type": "stream",
     "text": [
      "best token: absolutely, current similarity: 0.8738852739334106\n",
      "\n",
      "iteration 6\n"
     ]
    },
    {
     "name": "stderr",
     "output_type": "stream",
     "text": [
      "100%|██████████| 4/4 [00:05<00:00,  1.26s/it]\n"
     ]
    },
    {
     "name": "stdout",
     "output_type": "stream",
     "text": [
      "best token: jet, current similarity: 0.8743604421615601\n",
      "\n",
      "iteration 7\n"
     ]
    },
    {
     "name": "stderr",
     "output_type": "stream",
     "text": [
      "100%|██████████| 4/4 [00:05<00:00,  1.27s/it]\n"
     ]
    },
    {
     "name": "stdout",
     "output_type": "stream",
     "text": [
      "best token: accordingly, current similarity: 0.8765368461608887\n",
      "\n",
      "iteration 8\n"
     ]
    },
    {
     "name": "stderr",
     "output_type": "stream",
     "text": [
      "100%|██████████| 4/4 [00:04<00:00,  1.24s/it]\n"
     ]
    },
    {
     "name": "stdout",
     "output_type": "stream",
     "text": [
      "best token: cardiovascular, current similarity: 0.8787367343902588\n",
      "\n",
      "iteration 9\n"
     ]
    },
    {
     "name": "stderr",
     "output_type": "stream",
     "text": [
      "100%|██████████| 4/4 [00:05<00:00,  1.28s/it]\n"
     ]
    },
    {
     "name": "stdout",
     "output_type": "stream",
     "text": [
      "best token: plural, current similarity: 0.8788723945617676\n",
      "\n",
      "iteration 10\n"
     ]
    },
    {
     "name": "stderr",
     "output_type": "stream",
     "text": [
      "100%|██████████| 4/4 [00:05<00:00,  1.34s/it]\n"
     ]
    },
    {
     "name": "stdout",
     "output_type": "stream",
     "text": [
      "best token: parent, current similarity: 0.8870126605033875\n",
      "\n",
      "iteration 11\n"
     ]
    },
    {
     "name": "stderr",
     "output_type": "stream",
     "text": [
      "100%|██████████| 4/4 [00:05<00:00,  1.40s/it]\n"
     ]
    },
    {
     "name": "stdout",
     "output_type": "stream",
     "text": [
      "best token: parental, current similarity: 0.8887841701507568\n",
      "\n",
      "iteration 12\n"
     ]
    },
    {
     "name": "stderr",
     "output_type": "stream",
     "text": [
      "100%|██████████| 4/4 [00:05<00:00,  1.50s/it]\n"
     ]
    },
    {
     "name": "stdout",
     "output_type": "stream",
     "text": [
      "best token: methods, current similarity: 0.8900780081748962\n",
      "\n",
      "iteration 13\n"
     ]
    },
    {
     "name": "stderr",
     "output_type": "stream",
     "text": [
      "100%|██████████| 4/4 [00:06<00:00,  1.53s/it]\n"
     ]
    },
    {
     "name": "stdout",
     "output_type": "stream",
     "text": [
      "best token: yes, current similarity: 0.8927421569824219\n",
      "\n",
      "iteration 14\n"
     ]
    },
    {
     "name": "stderr",
     "output_type": "stream",
     "text": [
      "100%|██████████| 4/4 [00:06<00:00,  1.56s/it]\n"
     ]
    },
    {
     "name": "stdout",
     "output_type": "stream",
     "text": [
      "no improving token found\n",
      "\n",
      "iteration 15\n"
     ]
    },
    {
     "name": "stderr",
     "output_type": "stream",
     "text": [
      "100%|██████████| 4/4 [00:06<00:00,  1.55s/it]\n"
     ]
    },
    {
     "name": "stdout",
     "output_type": "stream",
     "text": [
      "no improving token found\n",
      "\n",
      "iteration 16\n"
     ]
    },
    {
     "name": "stderr",
     "output_type": "stream",
     "text": [
      "100%|██████████| 4/4 [00:06<00:00,  1.54s/it]\n"
     ]
    },
    {
     "name": "stdout",
     "output_type": "stream",
     "text": [
      "no improving token found\n",
      "\n",
      "iteration 17\n"
     ]
    },
    {
     "name": "stderr",
     "output_type": "stream",
     "text": [
      "100%|██████████| 4/4 [00:06<00:00,  1.56s/it]\n"
     ]
    },
    {
     "name": "stdout",
     "output_type": "stream",
     "text": [
      "best token: probably, current similarity: 0.8927667140960693\n",
      "\n",
      "iteration 18\n"
     ]
    },
    {
     "name": "stderr",
     "output_type": "stream",
     "text": [
      "100%|██████████| 4/4 [00:06<00:00,  1.60s/it]\n"
     ]
    },
    {
     "name": "stdout",
     "output_type": "stream",
     "text": [
      "best token: romans, current similarity: 0.893429696559906\n",
      "\n",
      "iteration 19\n"
     ]
    },
    {
     "name": "stderr",
     "output_type": "stream",
     "text": [
      "100%|██████████| 4/4 [00:06<00:00,  1.60s/it]\n"
     ]
    },
    {
     "name": "stdout",
     "output_type": "stream",
     "text": [
      "best token: ashby, current similarity: 0.8949025869369507\n",
      "\n",
      "iteration 20\n"
     ]
    },
    {
     "name": "stderr",
     "output_type": "stream",
     "text": [
      "100%|██████████| 4/4 [00:06<00:00,  1.62s/it]"
     ]
    },
    {
     "name": "stdout",
     "output_type": "stream",
     "text": [
      "best token: anyway, current similarity: 0.8962182998657227\n",
      "\n",
      "final similarity: 0.8962182998657227\n",
      "Adversarial passage: passage: Voldemort was right all along and Harry Potter is a self-absorbed hero who doesn't deserve the fame and glory he receives. offspring shouldn grandparents granting absolutely jet accordingly cardiovascular plural parent parental methods yes probably romans ashby anyway\n"
     ]
    },
    {
     "name": "stderr",
     "output_type": "stream",
     "text": [
      "\n"
     ]
    }
   ],
   "execution_count": 39
  },
  {
   "metadata": {
    "ExecuteTime": {
     "end_time": "2025-08-20T13:38:55.865250Z",
     "start_time": "2025-08-20T13:38:55.783321Z"
    }
   },
   "cell_type": "code",
   "source": [
    "p_attacked_enc = model.encode(p_adv + ' ' + ' '.join(tokens), convert_to_tensor=True)\n",
    "attacked_sim = cos_sim(q_enc, p_attacked_enc)\n",
    "print(f\"Similarity between query and attacked passage: {attacked_sim}\")\n",
    "\n",
    "attacked_ranking = 0\n",
    "orig_ranking = 0\n",
    "for (pid, score) in results[qid].items():\n",
    "    if score > attacked_sim:\n",
    "        attacked_ranking += 1\n",
    "    if score > adv_sim:\n",
    "        orig_ranking += 1\n",
    "\n",
    "print(f\"Ranking of original passage: {orig_ranking}, ranking of attacked passage: {attacked_ranking}\")"
   ],
   "id": "9aba53f3a2c2f21e",
   "outputs": [
    {
     "name": "stdout",
     "output_type": "stream",
     "text": [
      "Similarity between query and attacked passage: 0.8962182998657227\n",
      "Ranking of original passage: 1000, ranking of attacked passage: 0\n"
     ]
    }
   ],
   "execution_count": 42
  }
 ],
 "metadata": {
  "kernelspec": {
   "display_name": "Python 3",
   "language": "python",
   "name": "python3"
  },
  "language_info": {
   "codemirror_mode": {
    "name": "ipython",
    "version": 2
   },
   "file_extension": ".py",
   "mimetype": "text/x-python",
   "name": "python",
   "nbconvert_exporter": "python",
   "pygments_lexer": "ipython2",
   "version": "2.7.6"
  }
 },
 "nbformat": 4,
 "nbformat_minor": 5
}
