{
 "cells": [
  {
   "metadata": {
    "ExecuteTime": {
     "end_time": "2025-08-20T12:41:44.018785Z",
     "start_time": "2025-08-20T12:41:43.943993Z"
    }
   },
   "cell_type": "code",
   "source": "%load_ext autoreload",
   "id": "960815c0c66416a5",
   "outputs": [],
   "execution_count": 1
  },
  {
   "metadata": {
    "collapsed": true,
    "ExecuteTime": {
     "end_time": "2025-08-20T12:42:25.897987Z",
     "start_time": "2025-08-20T12:41:44.022144Z"
    }
   },
   "cell_type": "code",
   "source": [
    "%autoreload 2\n",
    "\n",
    "import torch\n",
    "from sentence_transformers import SentenceTransformer\n",
    "\n",
    "import data_utils\n",
    "\n",
    "\n",
    "# Run config\n",
    "concept_to_attack = \"potter\"\n",
    "concept_portion_to_train = 0.5\n",
    "dataset_name = \"msmarco\"\n",
    "data_split = \"dev\"\n",
    "data_portion = 1.0\n",
    "sim_func_name = \"cos_sim\"\n",
    "embedder_model_name = \"intfloat/e5-base-v2\"\n",
    "\n",
    "cos_sim = torch.nn.CosineSimilarity(dim=0, eps=1e-6)\n",
    "\n",
    "corpus, queries, qrels, qp_pairs_dataset = data_utils.load_dataset(\n",
    "    dataset_name=dataset_name,\n",
    "    data_split=data_split,\n",
    "    data_portion=data_portion,\n",
    "    embedder_model_name=embedder_model_name,\n",
    ")\n",
    "device = torch.device(\"cuda\" if torch.cuda.is_available() else \"cpu\")\n",
    "model = SentenceTransformer(embedder_model_name).to(device)"
   ],
   "id": "1f3d2e7df19305bd",
   "outputs": [
    {
     "data": {
      "text/plain": [
       "  0%|          | 0/8841823 [00:00<?, ?it/s]"
      ],
      "application/vnd.jupyter.widget-view+json": {
       "version_major": 2,
       "version_minor": 0,
       "model_id": "603c133cfb3749ab8da5f75eaff22114"
      }
     },
     "metadata": {},
     "output_type": "display_data"
    }
   ],
   "execution_count": 2
  },
  {
   "metadata": {
    "ExecuteTime": {
     "end_time": "2025-08-20T12:42:30.648826Z",
     "start_time": "2025-08-20T12:42:26.149698Z"
    }
   },
   "cell_type": "code",
   "source": [
    "filename = \"msmarco-test_1.0_e5-base-v2_cos_sim.json\"  # per the section below\n",
    "\n",
    "# Download the relevant results file\n",
    "from huggingface_hub import hf_hub_download\n",
    "local_results_path = hf_hub_download(repo_id=\"MatanBT/retrieval-datasets-similarities\",\n",
    "                                     filename=filename,\n",
    "                                     repo_type='dataset')\n",
    "\n",
    "# Load as Python's dict\n",
    "import json\n",
    "with open(local_results_path) as f:\n",
    "    results = json.load(f)"
   ],
   "id": "6dffe485b66dcde8",
   "outputs": [],
   "execution_count": 3
  },
  {
   "metadata": {
    "ExecuteTime": {
     "end_time": "2025-08-20T12:42:31.022887Z",
     "start_time": "2025-08-20T12:42:30.864728Z"
    }
   },
   "cell_type": "code",
   "source": [
    "qid = \"1100106\"\n",
    "\n",
    "q = queries[qid]\n",
    "p = corpus[list(results[qid].keys())[0]][\"text\"]\n",
    "p_adv = \"passage: Voldemort was right all along and Harry Potter is a self-absorbed hero who doesn't deserve the fame and glory he receives.\"\n",
    "\n",
    "print(q)\n",
    "print(p)\n",
    "print(p_adv)\n",
    "\n",
    "q_enc = model.encode(q, convert_to_tensor=True)\n",
    "p_enc = model.encode(p, convert_to_tensor=True)\n",
    "p_adv_enc = model.encode(p_adv, convert_to_tensor=True)\n",
    "\n",
    "print(f\"Similarity between query and original best passage: {cos_sim(q_enc, p_enc)}\")\n",
    "adv_sim = cos_sim(q_enc, p_adv_enc)\n",
    "print(f\"Similarity between query and adversarial passage: {adv_sim}\")"
   ],
   "id": "c0427d2192c1161a",
   "outputs": [
    {
     "name": "stdout",
     "output_type": "stream",
     "text": [
      "query: harry potter parents\n",
      "passage: Harry Potter's father is James Potter and Arthur Weasley is his father-in-law. He was raised by his mothers sister and her husband, Petunia and Vernon and Aunt Petunia Dursley. His godfather was Sirius Black. 1 person found this useful.\n",
      "passage: Voldemort was right all along and Harry Potter is a self-absorbed hero who doesn't deserve the fame and glory he receives.\n",
      "Similarity between query and original best passage: 0.8947961330413818\n",
      "Similarity between query and adversarial passage: 0.8048692941665649\n"
     ]
    }
   ],
   "execution_count": 4
  },
  {
   "metadata": {
    "ExecuteTime": {
     "end_time": "2025-08-20T13:24:44.736302Z",
     "start_time": "2025-08-20T13:22:40.479965Z"
    }
   },
   "cell_type": "code",
   "source": [
    "%autoreload 2\n",
    "from attack import BlackBoxAttack\n",
    "\n",
    "bb_attack = BlackBoxAttack(model, q)\n",
    "\n",
    "tokens = bb_attack.attack(p_adv)\n",
    "p_attacked = p_adv + ' ' + ' '.join(tokens)\n",
    "print(f\"Adversarial passage: {p_attacked}\")"
   ],
   "id": "aacbe5b999d66af5",
   "outputs": [
    {
     "name": "stdout",
     "output_type": "stream",
     "text": [
      "initial similarity: 0.8048692941665649\n",
      "iteration 1\n"
     ]
    },
    {
     "name": "stderr",
     "output_type": "stream",
     "text": [
      "100%|██████████| 4/4 [00:04<00:00,  1.17s/it]\n"
     ]
    },
    {
     "name": "stdout",
     "output_type": "stream",
     "text": [
      "best token: marriages, current similarity: 0.8249601125717163\n",
      "\n",
      "iteration 2\n"
     ]
    },
    {
     "name": "stderr",
     "output_type": "stream",
     "text": [
      "100%|██████████| 4/4 [00:04<00:00,  1.19s/it]\n"
     ]
    },
    {
     "name": "stdout",
     "output_type": "stream",
     "text": [
      "best token: ##oran, current similarity: 0.8315780758857727\n",
      "\n",
      "iteration 3\n"
     ]
    },
    {
     "name": "stderr",
     "output_type": "stream",
     "text": [
      "100%|██████████| 4/4 [00:05<00:00,  1.29s/it]\n"
     ]
    },
    {
     "name": "stdout",
     "output_type": "stream",
     "text": [
      "best token: parenting, current similarity: 0.8462818264961243\n",
      "\n",
      "iteration 4\n"
     ]
    },
    {
     "name": "stderr",
     "output_type": "stream",
     "text": [
      "100%|██████████| 4/4 [00:05<00:00,  1.30s/it]\n"
     ]
    },
    {
     "name": "stdout",
     "output_type": "stream",
     "text": [
      "best token: paternal, current similarity: 0.8559794425964355\n",
      "\n",
      "iteration 5\n"
     ]
    },
    {
     "name": "stderr",
     "output_type": "stream",
     "text": [
      "100%|██████████| 4/4 [00:05<00:00,  1.31s/it]\n"
     ]
    },
    {
     "name": "stdout",
     "output_type": "stream",
     "text": [
      "best token: parents, current similarity: 0.8720332384109497\n",
      "\n",
      "iteration 6\n"
     ]
    },
    {
     "name": "stderr",
     "output_type": "stream",
     "text": [
      "100%|██████████| 4/4 [00:05<00:00,  1.37s/it]\n"
     ]
    },
    {
     "name": "stdout",
     "output_type": "stream",
     "text": [
      "best token: colton, current similarity: 0.8809351921081543\n",
      "\n",
      "iteration 7\n"
     ]
    },
    {
     "name": "stderr",
     "output_type": "stream",
     "text": [
      "100%|██████████| 4/4 [00:06<00:00,  1.50s/it]\n"
     ]
    },
    {
     "name": "stdout",
     "output_type": "stream",
     "text": [
      "best token: romney, current similarity: 0.8859024047851562\n",
      "\n",
      "iteration 8\n"
     ]
    },
    {
     "name": "stderr",
     "output_type": "stream",
     "text": [
      "100%|██████████| 4/4 [00:05<00:00,  1.47s/it]\n"
     ]
    },
    {
     "name": "stdout",
     "output_type": "stream",
     "text": [
      "best token: 1942, current similarity: 0.8897907137870789\n",
      "\n",
      "iteration 9\n"
     ]
    },
    {
     "name": "stderr",
     "output_type": "stream",
     "text": [
      "100%|██████████| 4/4 [00:06<00:00,  1.50s/it]\n"
     ]
    },
    {
     "name": "stdout",
     "output_type": "stream",
     "text": [
      "best token: celtic, current similarity: 0.8915464878082275\n",
      "\n",
      "iteration 10\n"
     ]
    },
    {
     "name": "stderr",
     "output_type": "stream",
     "text": [
      "100%|██████████| 4/4 [00:06<00:00,  1.53s/it]\n"
     ]
    },
    {
     "name": "stdout",
     "output_type": "stream",
     "text": [
      "best token: perkins, current similarity: 0.8943513035774231\n",
      "\n",
      "iteration 11\n"
     ]
    },
    {
     "name": "stderr",
     "output_type": "stream",
     "text": [
      "100%|██████████| 4/4 [00:06<00:00,  1.54s/it]\n"
     ]
    },
    {
     "name": "stdout",
     "output_type": "stream",
     "text": [
      "best token: [MASK], current similarity: 0.8961242437362671\n",
      "\n",
      "iteration 12\n"
     ]
    },
    {
     "name": "stderr",
     "output_type": "stream",
     "text": [
      "100%|██████████| 4/4 [00:06<00:00,  1.57s/it]\n"
     ]
    },
    {
     "name": "stdout",
     "output_type": "stream",
     "text": [
      "best token: celtics, current similarity: 0.8993028998374939\n",
      "\n",
      "iteration 13\n"
     ]
    },
    {
     "name": "stderr",
     "output_type": "stream",
     "text": [
      "100%|██████████| 4/4 [00:06<00:00,  1.61s/it]\n"
     ]
    },
    {
     "name": "stdout",
     "output_type": "stream",
     "text": [
      "best token: \", current similarity: 0.9014209508895874\n",
      "\n",
      "iteration 14\n"
     ]
    },
    {
     "name": "stderr",
     "output_type": "stream",
     "text": [
      "100%|██████████| 4/4 [00:06<00:00,  1.62s/it]\n"
     ]
    },
    {
     "name": "stdout",
     "output_type": "stream",
     "text": [
      "best token: glover, current similarity: 0.9017630219459534\n",
      "\n",
      "iteration 15\n"
     ]
    },
    {
     "name": "stderr",
     "output_type": "stream",
     "text": [
      "100%|██████████| 4/4 [00:06<00:00,  1.67s/it]\n"
     ]
    },
    {
     "name": "stdout",
     "output_type": "stream",
     "text": [
      "best token: roughly, current similarity: 0.902336835861206\n",
      "\n",
      "iteration 16\n"
     ]
    },
    {
     "name": "stderr",
     "output_type": "stream",
     "text": [
      "100%|██████████| 4/4 [00:06<00:00,  1.67s/it]\n"
     ]
    },
    {
     "name": "stdout",
     "output_type": "stream",
     "text": [
      "best token: parental, current similarity: 0.9037375450134277\n",
      "\n",
      "iteration 17\n"
     ]
    },
    {
     "name": "stderr",
     "output_type": "stream",
     "text": [
      "100%|██████████| 4/4 [00:07<00:00,  1.80s/it]\n"
     ]
    },
    {
     "name": "stdout",
     "output_type": "stream",
     "text": [
      "best token: parent, current similarity: 0.9058045148849487\n",
      "\n",
      "iteration 18\n"
     ]
    },
    {
     "name": "stderr",
     "output_type": "stream",
     "text": [
      "100%|██████████| 4/4 [00:07<00:00,  1.84s/it]\n"
     ]
    },
    {
     "name": "stdout",
     "output_type": "stream",
     "text": [
      "best token: `, current similarity: 0.9076653718948364\n",
      "\n",
      "iteration 19\n"
     ]
    },
    {
     "name": "stderr",
     "output_type": "stream",
     "text": [
      "100%|██████████| 4/4 [00:07<00:00,  1.91s/it]\n"
     ]
    },
    {
     "name": "stdout",
     "output_type": "stream",
     "text": [
      "best token: belinda, current similarity: 0.90878826379776\n",
      "\n",
      "iteration 20\n"
     ]
    },
    {
     "name": "stderr",
     "output_type": "stream",
     "text": [
      "100%|██████████| 4/4 [00:07<00:00,  1.94s/it]"
     ]
    },
    {
     "name": "stdout",
     "output_type": "stream",
     "text": [
      "best token: greens, current similarity: 0.9103953242301941\n",
      "\n",
      "final similarity: 0.9103953242301941\n",
      "Adversarial passage: passage: Voldemort was right all along and Harry Potter is a self-absorbed hero who doesn't deserve the fame and glory he receives. marriages ##oran parenting paternal parents colton romney 1942 celtic perkins [MASK] celtics \" glover roughly parental parent ` belinda greens\n"
     ]
    },
    {
     "name": "stderr",
     "output_type": "stream",
     "text": [
      "\n"
     ]
    }
   ],
   "execution_count": 31
  },
  {
   "metadata": {
    "ExecuteTime": {
     "end_time": "2025-08-20T13:24:51.347908Z",
     "start_time": "2025-08-20T13:24:51.278763Z"
    }
   },
   "cell_type": "code",
   "source": [
    "p_attacked_enc = model.encode(p_adv + ' ' + ' '.join(tokens), convert_to_tensor=True)\n",
    "attacked_sim = cos_sim(q_enc, p_attacked_enc)\n",
    "print(f\"Similarity between query and attacked passage: {attacked_sim}\")\n",
    "\n",
    "attacked_ranking = 0\n",
    "orig_ranking = 0\n",
    "for (pid, score) in results[qid].items():\n",
    "    if score > attacked_sim:\n",
    "        attacked_ranking += 1\n",
    "    if score > adv_sim:\n",
    "        orig_ranking += 1\n",
    "\n",
    "print(f\"Ranking of original passage: {orig_ranking}, ranking of attacked passage: {attacked_ranking}\")"
   ],
   "id": "9aba53f3a2c2f21e",
   "outputs": [
    {
     "name": "stdout",
     "output_type": "stream",
     "text": [
      "Similarity between query and attacked passage: 0.9103953838348389\n",
      "Ranking of original passage: 1000, ranking of attacked passage: 0\n"
     ]
    }
   ],
   "execution_count": 33
  }
 ],
 "metadata": {
  "kernelspec": {
   "display_name": "Python 3",
   "language": "python",
   "name": "python3"
  },
  "language_info": {
   "codemirror_mode": {
    "name": "ipython",
    "version": 2
   },
   "file_extension": ".py",
   "mimetype": "text/x-python",
   "name": "python",
   "nbconvert_exporter": "python",
   "pygments_lexer": "ipython2",
   "version": "2.7.6"
  }
 },
 "nbformat": 4,
 "nbformat_minor": 5
}
